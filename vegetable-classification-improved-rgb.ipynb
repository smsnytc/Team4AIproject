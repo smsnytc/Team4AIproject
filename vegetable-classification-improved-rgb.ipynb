{
 "cells": [
  {
   "cell_type": "code",
   "execution_count": 1,
   "id": "0f671b01",
   "metadata": {
    "execution": {
     "iopub.execute_input": "2022-07-14T03:08:58.571717Z",
     "iopub.status.busy": "2022-07-14T03:08:58.571157Z",
     "iopub.status.idle": "2022-07-14T03:09:05.543224Z",
     "shell.execute_reply": "2022-07-14T03:09:05.543989Z"
    },
    "papermill": {
     "duration": 6.989958,
     "end_time": "2022-07-14T03:09:05.544374",
     "exception": false,
     "start_time": "2022-07-14T03:08:58.554416",
     "status": "completed"
    },
    "tags": []
   },
   "outputs": [
    {
     "name": "stdout",
     "output_type": "stream",
     "text": [
      "2.4.1\n"
     ]
    }
   ],
   "source": [
    "import tensorflow as tf\n",
    "print(tf.__version__)"
   ]
  },
  {
   "cell_type": "code",
   "execution_count": 2,
   "id": "042d2302",
   "metadata": {
    "execution": {
     "iopub.execute_input": "2022-07-14T03:09:05.567083Z",
     "iopub.status.busy": "2022-07-14T03:09:05.566464Z",
     "iopub.status.idle": "2022-07-14T03:09:05.819621Z",
     "shell.execute_reply": "2022-07-14T03:09:05.819001Z"
    },
    "papermill": {
     "duration": 0.26678,
     "end_time": "2022-07-14T03:09:05.819758",
     "exception": false,
     "start_time": "2022-07-14T03:09:05.552978",
     "status": "completed"
    },
    "tags": []
   },
   "outputs": [],
   "source": [
    "import numpy as np\n",
    "import cv2\n",
    "from keras.models import Sequential\n",
    "from keras.layers import Dense, Dropout, Flatten\n",
    "from keras.layers import Conv2D\n",
    "from keras.optimizers import Adam\n",
    "from keras.layers import MaxPooling2D\n",
    "from keras.preprocessing.image import ImageDataGenerator"
   ]
  },
  {
   "cell_type": "code",
   "execution_count": 3,
   "id": "50df9b06",
   "metadata": {
    "execution": {
     "iopub.execute_input": "2022-07-14T03:09:05.841264Z",
     "iopub.status.busy": "2022-07-14T03:09:05.840669Z",
     "iopub.status.idle": "2022-07-14T03:09:06.058317Z",
     "shell.execute_reply": "2022-07-14T03:09:06.057710Z"
    },
    "papermill": {
     "duration": 0.231264,
     "end_time": "2022-07-14T03:09:06.058457",
     "exception": false,
     "start_time": "2022-07-14T03:09:05.827193",
     "status": "completed"
    },
    "tags": []
   },
   "outputs": [
    {
     "name": "stdout",
     "output_type": "stream",
     "text": [
      "Found 997 images belonging to 4 classes.\n",
      "Found 385 images belonging to 4 classes.\n"
     ]
    }
   ],
   "source": [
    "#Reduce the size of the images to reduce the model size. 128x128 = 812MB\n",
    "#Rescale the image sizes to between 0 and 1\n",
    "train_img_datagen = ImageDataGenerator(rescale=1./255)\n",
    "val_img_datagen = ImageDataGenerator(rescale=1./255)\n",
    "\n",
    "train_set = train_img_datagen.flow_from_directory(\n",
    "    '../input/vegtrainset',\n",
    "    target_size=(64,64),\n",
    "    batch_size=32,\n",
    "    color_mode='rgb',\n",
    "    class_mode='categorical')\n",
    "\n",
    "val_set = val_img_datagen.flow_from_directory(\n",
    "    '../input/vegtestset',\n",
    "    target_size=(64,64),\n",
    "    batch_size=32,\n",
    "    color_mode='rgb',\n",
    "    class_mode='categorical')"
   ]
  },
  {
   "cell_type": "code",
   "execution_count": 4,
   "id": "cf55de22",
   "metadata": {
    "execution": {
     "iopub.execute_input": "2022-07-14T03:09:06.078429Z",
     "iopub.status.busy": "2022-07-14T03:09:06.077462Z",
     "iopub.status.idle": "2022-07-14T03:09:06.082004Z",
     "shell.execute_reply": "2022-07-14T03:09:06.082509Z"
    },
    "papermill": {
     "duration": 0.016298,
     "end_time": "2022-07-14T03:09:06.082671",
     "exception": false,
     "start_time": "2022-07-14T03:09:06.066373",
     "status": "completed"
    },
    "tags": []
   },
   "outputs": [],
   "source": [
    "class_dict = {'flower': 0,'fruit': 1,'root': 2,'seed': 3}\n",
    "\n",
    "class_names = list(class_dict.keys())"
   ]
  },
  {
   "cell_type": "code",
   "execution_count": 5,
   "id": "fd018cc0",
   "metadata": {
    "execution": {
     "iopub.execute_input": "2022-07-14T03:09:06.102333Z",
     "iopub.status.busy": "2022-07-14T03:09:06.101408Z",
     "iopub.status.idle": "2022-07-14T03:09:06.244120Z",
     "shell.execute_reply": "2022-07-14T03:09:06.244604Z"
    },
    "papermill": {
     "duration": 0.153885,
     "end_time": "2022-07-14T03:09:06.244781",
     "exception": false,
     "start_time": "2022-07-14T03:09:06.090896",
     "status": "completed"
    },
    "tags": []
   },
   "outputs": [],
   "source": [
    "model = Sequential([\n",
    "    Conv2D(filters=32, kernel_size=1, input_shape=(64,64,3)),\n",
    "    Flatten(input_shape=(64, 64)), #flatten --> 3D to 2D\n",
    "    Dense(16, activation='relu'),\n",
    "    #Dense(2, activation='softmax')\n",
    "    Dense(4,activation='softmax')\n",
    "])"
   ]
  },
  {
   "cell_type": "code",
   "execution_count": 6,
   "id": "34354901",
   "metadata": {
    "execution": {
     "iopub.execute_input": "2022-07-14T03:09:06.272688Z",
     "iopub.status.busy": "2022-07-14T03:09:06.271833Z",
     "iopub.status.idle": "2022-07-14T03:09:06.280174Z",
     "shell.execute_reply": "2022-07-14T03:09:06.279539Z"
    },
    "papermill": {
     "duration": 0.027582,
     "end_time": "2022-07-14T03:09:06.280308",
     "exception": false,
     "start_time": "2022-07-14T03:09:06.252726",
     "status": "completed"
    },
    "tags": []
   },
   "outputs": [],
   "source": [
    "#Use BinaryCrossentropy for classification of 0 and 1\n",
    "#https://www.tensorflow.org/api_docs/python/tf/keras/losses/BinaryCrossentropy\n",
    "model.compile(optimizer='adam',\n",
    "              loss=tf.keras.losses.BinaryCrossentropy(from_logits=True),\n",
    "              metrics=['accuracy'])\n",
    "\n"
   ]
  },
  {
   "cell_type": "code",
   "execution_count": 7,
   "id": "a64d2aed",
   "metadata": {
    "execution": {
     "iopub.execute_input": "2022-07-14T03:09:06.301505Z",
     "iopub.status.busy": "2022-07-14T03:09:06.300766Z",
     "iopub.status.idle": "2022-07-14T03:09:30.950205Z",
     "shell.execute_reply": "2022-07-14T03:09:30.949297Z"
    },
    "papermill": {
     "duration": 24.661954,
     "end_time": "2022-07-14T03:09:30.950402",
     "exception": false,
     "start_time": "2022-07-14T03:09:06.288448",
     "status": "completed"
    },
    "tags": []
   },
   "outputs": [
    {
     "name": "stdout",
     "output_type": "stream",
     "text": [
      "Epoch 1/5\n",
      "32/32 [==============================] - 9s 254ms/step - loss: 1.6309 - accuracy: 0.2762 - val_loss: 0.6895 - val_accuracy: 0.2545\n",
      "Epoch 2/5\n",
      "32/32 [==============================] - 4s 120ms/step - loss: 0.6871 - accuracy: 0.2455 - val_loss: 0.6602 - val_accuracy: 0.2935\n",
      "Epoch 3/5\n",
      "32/32 [==============================] - 4s 127ms/step - loss: 0.6437 - accuracy: 0.3706 - val_loss: 0.6354 - val_accuracy: 0.3351\n",
      "Epoch 4/5\n",
      "32/32 [==============================] - 4s 123ms/step - loss: 0.6114 - accuracy: 0.3755 - val_loss: 0.6191 - val_accuracy: 0.3740\n",
      "Epoch 5/5\n",
      "32/32 [==============================] - 4s 120ms/step - loss: 0.5912 - accuracy: 0.4048 - val_loss: 0.6164 - val_accuracy: 0.4000\n",
      "Model: \"sequential\"\n",
      "_________________________________________________________________\n",
      "Layer (type)                 Output Shape              Param #   \n",
      "=================================================================\n",
      "conv2d (Conv2D)              (None, 64, 64, 32)        128       \n",
      "_________________________________________________________________\n",
      "flatten (Flatten)            (None, 131072)            0         \n",
      "_________________________________________________________________\n",
      "dense (Dense)                (None, 16)                2097168   \n",
      "_________________________________________________________________\n",
      "dense_1 (Dense)              (None, 4)                 68        \n",
      "=================================================================\n",
      "Total params: 2,097,364\n",
      "Trainable params: 2,097,364\n",
      "Non-trainable params: 0\n",
      "_________________________________________________________________\n"
     ]
    }
   ],
   "source": [
    "model_info = model.fit(train_set,batch_size=32, validation_data= val_set, epochs=5, shuffle=True)\n",
    "\n",
    "model.summary()"
   ]
  },
  {
   "cell_type": "code",
   "execution_count": 8,
   "id": "48592184",
   "metadata": {
    "execution": {
     "iopub.execute_input": "2022-07-14T03:09:31.044821Z",
     "iopub.status.busy": "2022-07-14T03:09:31.043913Z",
     "iopub.status.idle": "2022-07-14T03:09:31.385164Z",
     "shell.execute_reply": "2022-07-14T03:09:31.385599Z"
    },
    "papermill": {
     "duration": 0.38945,
     "end_time": "2022-07-14T03:09:31.385771",
     "exception": false,
     "start_time": "2022-07-14T03:09:30.996321",
     "status": "completed"
    },
    "tags": []
   },
   "outputs": [
    {
     "name": "stdout",
     "output_type": "stream",
     "text": [
      "dict_keys(['loss', 'accuracy', 'val_loss', 'val_accuracy'])\n"
     ]
    },
    {
     "data": {
      "image/png": "[encoded data removed]",
      "text/plain": [
       "<Figure size 432x288 with 1 Axes>"
      ]
     },
     "metadata": {
      "needs_background": "light"
     },
     "output_type": "display_data"
    },
    {
     "data": {
      "image/png": "[encoded data removed]",
      "text/plain": [
       "<Figure size 432x288 with 1 Axes>"
      ]
     },
     "metadata": {
      "needs_background": "light"
     },
     "output_type": "display_data"
    }
   ],
   "source": [
    "import matplotlib.pyplot as plt\n",
    "\n",
    "# list all data in history\n",
    "print(model_info.history.keys())\n",
    "\n",
    "# summarize history for accuracy\n",
    "plt.plot(model_info.history['accuracy'])\n",
    "plt.plot(model_info.history['val_accuracy'])\n",
    "plt.title('model accuracy')\n",
    "plt.ylabel('accuracy')\n",
    "plt.xlabel('epoch')\n",
    "plt.legend(['train', 'test'], loc='upper left')\n",
    "plt.show()\n",
    "# summarize history for loss\n",
    "plt.plot(model_info.history['loss'])\n",
    "plt.plot(model_info.history['val_loss'])\n",
    "plt.title('model loss')\n",
    "plt.ylabel('loss')\n",
    "plt.xlabel('epoch')\n",
    "plt.legend(['train', 'test'], loc='upper left')\n",
    "plt.show()"
   ]
  },
  {
   "cell_type": "code",
   "execution_count": 9,
   "id": "554fb561",
   "metadata": {
    "execution": {
     "iopub.execute_input": "2022-07-14T03:09:31.490319Z",
     "iopub.status.busy": "2022-07-14T03:09:31.489644Z",
     "iopub.status.idle": "2022-07-14T03:09:31.546481Z",
     "shell.execute_reply": "2022-07-14T03:09:31.545881Z"
    },
    "papermill": {
     "duration": 0.113631,
     "end_time": "2022-07-14T03:09:31.546633",
     "exception": false,
     "start_time": "2022-07-14T03:09:31.433002",
     "status": "completed"
    },
    "tags": []
   },
   "outputs": [],
   "source": [
    "model.save('VegRGBWorking.h5')"
   ]
  },
  {
   "cell_type": "code",
   "execution_count": 10,
   "id": "1eb5fc4c",
   "metadata": {
    "execution": {
     "iopub.execute_input": "2022-07-14T03:09:31.651118Z",
     "iopub.status.busy": "2022-07-14T03:09:31.650456Z",
     "iopub.status.idle": "2022-07-14T03:09:31.929439Z",
     "shell.execute_reply": "2022-07-14T03:09:31.928915Z"
    },
    "papermill": {
     "duration": 0.33471,
     "end_time": "2022-07-14T03:09:31.929581",
     "exception": false,
     "start_time": "2022-07-14T03:09:31.594871",
     "status": "completed"
    },
    "tags": []
   },
   "outputs": [],
   "source": [
    "from keras.models import load_model\n",
    "model = load_model('VegRGBWorking.h5')"
   ]
  },
  {
   "cell_type": "code",
   "execution_count": 11,
   "id": "bf6070ba",
   "metadata": {
    "execution": {
     "iopub.execute_input": "2022-07-14T03:09:32.030772Z",
     "iopub.status.busy": "2022-07-14T03:09:32.030131Z",
     "iopub.status.idle": "2022-07-14T03:09:32.031867Z",
     "shell.execute_reply": "2022-07-14T03:09:32.032395Z"
    },
    "papermill": {
     "duration": 0.056523,
     "end_time": "2022-07-14T03:09:32.032555",
     "exception": false,
     "start_time": "2022-07-14T03:09:31.976032",
     "status": "completed"
    },
    "tags": []
   },
   "outputs": [],
   "source": [
    "from keras.models import load_model\n",
    "from keras.preprocessing import image\n",
    "import matplotlib.pyplot as plt\n",
    "import numpy as np\n",
    "\n",
    "# dimensions of our images\n",
    "img_width, img_height = 64, 64\n",
    "images_dir = \"../input/vegtestset\""
   ]
  },
  {
   "cell_type": "code",
   "execution_count": 12,
   "id": "7921e64b",
   "metadata": {
    "execution": {
     "iopub.execute_input": "2022-07-14T03:09:32.133277Z",
     "iopub.status.busy": "2022-07-14T03:09:32.132342Z",
     "iopub.status.idle": "2022-07-14T03:09:32.407240Z",
     "shell.execute_reply": "2022-07-14T03:09:32.406731Z"
    },
    "papermill": {
     "duration": 0.327661,
     "end_time": "2022-07-14T03:09:32.407384",
     "exception": false,
     "start_time": "2022-07-14T03:09:32.079723",
     "status": "completed"
    },
    "tags": []
   },
   "outputs": [
    {
     "name": "stdout",
     "output_type": "stream",
     "text": [
      "{'Class': 'fruit', 'Probability': 0.59544045}\n"
     ]
    },
    {
     "data": {
      "image/png": "[encoded data removed]",
      "text/plain": [
       "<Figure size 288x288 with 1 Axes>"
      ]
     },
     "metadata": {
      "needs_background": "light"
     },
     "output_type": "display_data"
    }
   ],
   "source": [
    "# predicting single image\n",
    "image_path = \"../input/validatedataset/Tomato2.jpg\"\n",
    "new_img = image.load_img(image_path, target_size=(img_width, img_height))\n",
    "img = image.img_to_array(new_img)\n",
    "img = np.expand_dims(img, axis=0)\n",
    "img = img/255\n",
    "\n",
    "#img_class = model.predict_classes(img) #returns ndim np_array\n",
    "img_class = np.argmax(model.predict(img), axis=-1)\n",
    "img_class_index = img_class.item() #extracting value(s)\n",
    "classname = class_names[img_class_index]\n",
    "\n",
    "#img_prob = model.predict_proba(img) #returns numpy array of class probabilities\n",
    "img_prob = model.predict(img)\n",
    "prediction_prob = img_prob.max()\n",
    "\n",
    "pred_dict = {\"Class\":classname, \"Probability\":prediction_prob}\n",
    "print(pred_dict)\n",
    "\n",
    "#ploting image with predicted class name        \n",
    "plt.figure(figsize = (4,4))\n",
    "plt.imshow(new_img)\n",
    "plt.axis('off')\n",
    "plt.title(classname)\n",
    "plt.show()"
   ]
  }
 ],
 "metadata": {
  "kernelspec": {
   "display_name": "Python 3",
   "language": "python",
   "name": "python3"
  },
  "language_info": {
   "codemirror_mode": {
    "name": "ipython",
    "version": 3
   },
   "file_extension": ".py",
   "mimetype": "text/x-python",
   "name": "python",
   "nbconvert_exporter": "python",
   "pygments_lexer": "ipython3",
   "version": "3.7.10"
  },
  "papermill": {
   "default_parameters": {},
   "duration": 43.83985,
   "end_time": "2022-07-14T03:09:34.531355",
   "environment_variables": {},
   "exception": null,
   "input_path": "__notebook__.ipynb",
   "output_path": "__notebook__.ipynb",
   "parameters": {},
   "start_time": "2022-07-14T03:08:50.691505",
   "version": "2.3.3"
  }
 },
 "nbformat": 4,
 "nbformat_minor": 5
}
