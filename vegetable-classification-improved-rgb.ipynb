{
 "cells": [
  {
   "cell_type": "code",
   "execution_count": 1,
   "id": "8999ad88",
   "metadata": {
    "execution": {
     "iopub.execute_input": "2022-07-14T02:52:40.295542Z",
     "iopub.status.busy": "2022-07-14T02:52:40.294456Z",
     "iopub.status.idle": "2022-07-14T02:52:47.435156Z",
     "shell.execute_reply": "2022-07-14T02:52:47.435682Z",
     "shell.execute_reply.started": "2022-07-13T01:53:45.192567Z"
    },
    "papermill": {
     "duration": 7.153822,
     "end_time": "2022-07-14T02:52:47.436100",
     "exception": false,
     "start_time": "2022-07-14T02:52:40.282278",
     "status": "completed"
    },
    "tags": []
   },
   "outputs": [
    {
     "name": "stdout",
     "output_type": "stream",
     "text": [
      "2.4.1\n"
     ]
    }
   ],
   "source": [
    "import tensorflow as tf\n",
    "print(tf.__version__)"
   ]
  },
  {
   "cell_type": "code",
   "execution_count": 2,
   "id": "5cca5c16",
   "metadata": {
    "execution": {
     "iopub.execute_input": "2022-07-14T02:52:47.457611Z",
     "iopub.status.busy": "2022-07-14T02:52:47.456917Z",
     "iopub.status.idle": "2022-07-14T02:52:47.703267Z",
     "shell.execute_reply": "2022-07-14T02:52:47.702687Z",
     "shell.execute_reply.started": "2022-07-13T01:53:51.472520Z"
    },
    "papermill": {
     "duration": 0.257612,
     "end_time": "2022-07-14T02:52:47.703425",
     "exception": false,
     "start_time": "2022-07-14T02:52:47.445813",
     "status": "completed"
    },
    "tags": []
   },
   "outputs": [],
   "source": [
    "import numpy as np\n",
    "import cv2\n",
    "from keras.models import Sequential\n",
    "from keras.layers import Dense, Dropout, Flatten\n",
    "from keras.layers import Conv2D\n",
    "from keras.optimizers import Adam\n",
    "from keras.layers import MaxPooling2D\n",
    "from keras.preprocessing.image import ImageDataGenerator"
   ]
  },
  {
   "cell_type": "code",
   "execution_count": 3,
   "id": "08fb48d2",
   "metadata": {
    "execution": {
     "iopub.execute_input": "2022-07-14T02:52:47.727432Z",
     "iopub.status.busy": "2022-07-14T02:52:47.726630Z",
     "iopub.status.idle": "2022-07-14T02:52:47.946572Z",
     "shell.execute_reply": "2022-07-14T02:52:47.945626Z",
     "shell.execute_reply.started": "2022-07-13T01:53:51.678198Z"
    },
    "papermill": {
     "duration": 0.234515,
     "end_time": "2022-07-14T02:52:47.946745",
     "exception": false,
     "start_time": "2022-07-14T02:52:47.712230",
     "status": "completed"
    },
    "tags": []
   },
   "outputs": [
    {
     "name": "stdout",
     "output_type": "stream",
     "text": [
      "Found 997 images belonging to 4 classes.\n",
      "Found 385 images belonging to 4 classes.\n"
     ]
    }
   ],
   "source": [
    "#Reduce the size of the images to reduce the model size. 128x128 = 812MB\n",
    "#Rescale the image sizes to between 0 and 1\n",
    "train_img_datagen = ImageDataGenerator(rescale=1./255)\n",
    "val_img_datagen = ImageDataGenerator(rescale=1./255)\n",
    "\n",
    "train_set = train_img_datagen.flow_from_directory(\n",
    "    '../input/vegtrainset',\n",
    "    target_size=(64,64),\n",
    "    batch_size=32,\n",
    "    color_mode='rgb',\n",
    "    class_mode='categorical')\n",
    "\n",
    "val_set = val_img_datagen.flow_from_directory(\n",
    "    '../input/vegtestset',\n",
    "    target_size=(64,64),\n",
    "    batch_size=32,\n",
    "    color_mode='rgb',\n",
    "    class_mode='categorical')"
   ]
  },
  {
   "cell_type": "code",
   "execution_count": 4,
   "id": "a010a73f",
   "metadata": {
    "execution": {
     "iopub.execute_input": "2022-07-14T02:52:47.969736Z",
     "iopub.status.busy": "2022-07-14T02:52:47.968873Z",
     "iopub.status.idle": "2022-07-14T02:52:47.971697Z",
     "shell.execute_reply": "2022-07-14T02:52:47.971066Z",
     "shell.execute_reply.started": "2022-07-13T01:53:51.899323Z"
    },
    "papermill": {
     "duration": 0.016047,
     "end_time": "2022-07-14T02:52:47.971842",
     "exception": false,
     "start_time": "2022-07-14T02:52:47.955795",
     "status": "completed"
    },
    "tags": []
   },
   "outputs": [],
   "source": [
    "class_dict = {'flower': 0,'fruit': 1,'root': 2,'seed': 3}\n",
    "\n",
    "class_names = list(class_dict.keys())"
   ]
  },
  {
   "cell_type": "code",
   "execution_count": 5,
   "id": "92dc6b85",
   "metadata": {
    "execution": {
     "iopub.execute_input": "2022-07-14T02:52:47.995470Z",
     "iopub.status.busy": "2022-07-14T02:52:47.993126Z",
     "iopub.status.idle": "2022-07-14T02:52:48.142002Z",
     "shell.execute_reply": "2022-07-14T02:52:48.141358Z",
     "shell.execute_reply.started": "2022-07-13T01:53:51.903394Z"
    },
    "papermill": {
     "duration": 0.160582,
     "end_time": "2022-07-14T02:52:48.142152",
     "exception": false,
     "start_time": "2022-07-14T02:52:47.981570",
     "status": "completed"
    },
    "tags": []
   },
   "outputs": [],
   "source": [
    "model = Sequential([\n",
    "    Conv2D(filters=32, kernel_size=1, input_shape=(64,64,3)),\n",
    "    Flatten(input_shape=(64, 64)), #flatten --> 3D to 2D\n",
    "    Dense(16, activation='relu'),\n",
    "    #Dense(2, activation='softmax')\n",
    "    Dense(4,activation='softmax')\n",
    "])"
   ]
  },
  {
   "cell_type": "code",
   "execution_count": 6,
   "id": "a90fc1a3",
   "metadata": {
    "execution": {
     "iopub.execute_input": "2022-07-14T02:52:48.177715Z",
     "iopub.status.busy": "2022-07-14T02:52:48.172841Z",
     "iopub.status.idle": "2022-07-14T02:52:48.180998Z",
     "shell.execute_reply": "2022-07-14T02:52:48.180127Z",
     "shell.execute_reply.started": "2022-07-13T01:53:52.039343Z"
    },
    "papermill": {
     "duration": 0.029735,
     "end_time": "2022-07-14T02:52:48.181199",
     "exception": false,
     "start_time": "2022-07-14T02:52:48.151464",
     "status": "completed"
    },
    "tags": []
   },
   "outputs": [],
   "source": [
    "#Use BinaryCrossentropy for classification of 0 and 1\n",
    "#https://www.tensorflow.org/api_docs/python/tf/keras/losses/BinaryCrossentropy\n",
    "model.compile(optimizer='adam',\n",
    "              loss=tf.keras.losses.BinaryCrossentropy(from_logits=True),\n",
    "              metrics=['accuracy'])\n",
    "\n"
   ]
  },
  {
   "cell_type": "code",
   "execution_count": 7,
   "id": "172c6719",
   "metadata": {
    "execution": {
     "iopub.execute_input": "2022-07-14T02:52:48.204920Z",
     "iopub.status.busy": "2022-07-14T02:52:48.204250Z",
     "iopub.status.idle": "2022-07-14T02:53:13.281583Z",
     "shell.execute_reply": "2022-07-14T02:53:13.281039Z",
     "shell.execute_reply.started": "2022-07-13T01:53:52.060384Z"
    },
    "papermill": {
     "duration": 25.091045,
     "end_time": "2022-07-14T02:53:13.281749",
     "exception": false,
     "start_time": "2022-07-14T02:52:48.190704",
     "status": "completed"
    },
    "tags": []
   },
   "outputs": [
    {
     "name": "stdout",
     "output_type": "stream",
     "text": [
      "Epoch 1/5\n",
      "32/32 [==============================] - 8s 246ms/step - loss: 3.1951 - accuracy: 0.3076 - val_loss: 0.6446 - val_accuracy: 0.4701\n",
      "Epoch 2/5\n",
      "32/32 [==============================] - 4s 123ms/step - loss: 0.5936 - accuracy: 0.4057 - val_loss: 0.5892 - val_accuracy: 0.4987\n",
      "Epoch 3/5\n",
      "32/32 [==============================] - 4s 132ms/step - loss: 0.5447 - accuracy: 0.4812 - val_loss: 0.5856 - val_accuracy: 0.4831\n",
      "Epoch 4/5\n",
      "32/32 [==============================] - 4s 131ms/step - loss: 0.5108 - accuracy: 0.5191 - val_loss: 0.5550 - val_accuracy: 0.4519\n",
      "Epoch 5/5\n",
      "32/32 [==============================] - 4s 127ms/step - loss: 0.4879 - accuracy: 0.5134 - val_loss: 0.5881 - val_accuracy: 0.4260\n",
      "Model: \"sequential\"\n",
      "_________________________________________________________________\n",
      "Layer (type)                 Output Shape              Param #   \n",
      "=================================================================\n",
      "conv2d (Conv2D)              (None, 64, 64, 32)        128       \n",
      "_________________________________________________________________\n",
      "flatten (Flatten)            (None, 131072)            0         \n",
      "_________________________________________________________________\n",
      "dense (Dense)                (None, 16)                2097168   \n",
      "_________________________________________________________________\n",
      "dense_1 (Dense)              (None, 4)                 68        \n",
      "=================================================================\n",
      "Total params: 2,097,364\n",
      "Trainable params: 2,097,364\n",
      "Non-trainable params: 0\n",
      "_________________________________________________________________\n"
     ]
    }
   ],
   "source": [
    "model_info = model.fit(train_set,batch_size=32, validation_data= val_set, epochs=5, shuffle=True)\n",
    "\n",
    "model.summary()"
   ]
  },
  {
   "cell_type": "code",
   "execution_count": 8,
   "id": "9287f71c",
   "metadata": {
    "execution": {
     "iopub.execute_input": "2022-07-14T02:53:13.386678Z",
     "iopub.status.busy": "2022-07-14T02:53:13.385831Z",
     "iopub.status.idle": "2022-07-14T02:53:13.731510Z",
     "shell.execute_reply": "2022-07-14T02:53:13.730567Z",
     "shell.execute_reply.started": "2022-07-13T01:54:13.940940Z"
    },
    "papermill": {
     "duration": 0.402926,
     "end_time": "2022-07-14T02:53:13.731665",
     "exception": false,
     "start_time": "2022-07-14T02:53:13.328739",
     "status": "completed"
    },
    "tags": []
   },
   "outputs": [
    {
     "name": "stdout",
     "output_type": "stream",
     "text": [
      "dict_keys(['loss', 'accuracy', 'val_loss', 'val_accuracy'])\n"
     ]
    },
    {
     "data": {
      "image/png": "[encoded data removed]",
      "text/plain": [
       "<Figure size 432x288 with 1 Axes>"
      ]
     },
     "metadata": {
      "needs_background": "light"
     },
     "output_type": "display_data"
    },
    {
     "data": {
      "image/png": "[encoded data removed]",
      "text/plain": [
       "<Figure size 432x288 with 1 Axes>"
      ]
     },
     "metadata": {
      "needs_background": "light"
     },
     "output_type": "display_data"
    }
   ],
   "source": [
    "import matplotlib.pyplot as plt\n",
    "\n",
    "# list all data in history\n",
    "print(model_info.history.keys())\n",
    "\n",
    "# summarize history for accuracy\n",
    "plt.plot(model_info.history['accuracy'])\n",
    "plt.plot(model_info.history['val_accuracy'])\n",
    "plt.title('model accuracy')\n",
    "plt.ylabel('accuracy')\n",
    "plt.xlabel('epoch')\n",
    "plt.legend(['train', 'test'], loc='upper left')\n",
    "plt.show()\n",
    "# summarize history for loss\n",
    "plt.plot(model_info.history['loss'])\n",
    "plt.plot(model_info.history['val_loss'])\n",
    "plt.title('model loss')\n",
    "plt.ylabel('loss')\n",
    "plt.xlabel('epoch')\n",
    "plt.legend(['train', 'test'], loc='upper left')\n",
    "plt.show()"
   ]
  },
  {
   "cell_type": "code",
   "execution_count": 9,
   "id": "b669eb9b",
   "metadata": {
    "execution": {
     "iopub.execute_input": "2022-07-14T02:53:13.839845Z",
     "iopub.status.busy": "2022-07-14T02:53:13.834614Z",
     "iopub.status.idle": "2022-07-14T02:53:13.896338Z",
     "shell.execute_reply": "2022-07-14T02:53:13.895630Z",
     "shell.execute_reply.started": "2022-07-13T01:54:14.233493Z"
    },
    "papermill": {
     "duration": 0.115673,
     "end_time": "2022-07-14T02:53:13.896491",
     "exception": false,
     "start_time": "2022-07-14T02:53:13.780818",
     "status": "completed"
    },
    "tags": []
   },
   "outputs": [],
   "source": [
    "model.save('VegRGBWorking.h5')"
   ]
  },
  {
   "cell_type": "code",
   "execution_count": 10,
   "id": "56613148",
   "metadata": {
    "execution": {
     "iopub.execute_input": "2022-07-14T02:53:14.006584Z",
     "iopub.status.busy": "2022-07-14T02:53:14.000734Z",
     "iopub.status.idle": "2022-07-14T02:53:14.279258Z",
     "shell.execute_reply": "2022-07-14T02:53:14.278701Z",
     "shell.execute_reply.started": "2022-07-13T01:54:14.277566Z"
    },
    "papermill": {
     "duration": 0.332353,
     "end_time": "2022-07-14T02:53:14.279412",
     "exception": false,
     "start_time": "2022-07-14T02:53:13.947059",
     "status": "completed"
    },
    "tags": []
   },
   "outputs": [],
   "source": [
    "from keras.models import load_model\n",
    "model = load_model('VegRGBWorking.h5')"
   ]
  },
  {
   "cell_type": "code",
   "execution_count": 11,
   "id": "c119b453",
   "metadata": {
    "execution": {
     "iopub.execute_input": "2022-07-14T02:53:14.380484Z",
     "iopub.status.busy": "2022-07-14T02:53:14.379583Z",
     "iopub.status.idle": "2022-07-14T02:53:14.383040Z",
     "shell.execute_reply": "2022-07-14T02:53:14.382469Z",
     "shell.execute_reply.started": "2022-07-13T01:54:14.527886Z"
    },
    "papermill": {
     "duration": 0.055741,
     "end_time": "2022-07-14T02:53:14.383220",
     "exception": false,
     "start_time": "2022-07-14T02:53:14.327479",
     "status": "completed"
    },
    "tags": []
   },
   "outputs": [],
   "source": [
    "from keras.models import load_model\n",
    "from keras.preprocessing import image\n",
    "import matplotlib.pyplot as plt\n",
    "import numpy as np\n",
    "\n",
    "# dimensions of our images\n",
    "img_width, img_height = 64, 64\n",
    "images_dir = \"../input/vegtestset\""
   ]
  },
  {
   "cell_type": "code",
   "execution_count": 12,
   "id": "d9cab29f",
   "metadata": {
    "execution": {
     "iopub.execute_input": "2022-07-14T02:53:14.484743Z",
     "iopub.status.busy": "2022-07-14T02:53:14.484047Z",
     "iopub.status.idle": "2022-07-14T02:53:14.764639Z",
     "shell.execute_reply": "2022-07-14T02:53:14.763995Z",
     "shell.execute_reply.started": "2022-07-13T01:54:14.532075Z"
    },
    "papermill": {
     "duration": 0.333897,
     "end_time": "2022-07-14T02:53:14.764780",
     "exception": false,
     "start_time": "2022-07-14T02:53:14.430883",
     "status": "completed"
    },
    "tags": []
   },
   "outputs": [
    {
     "name": "stdout",
     "output_type": "stream",
     "text": [
      "{'Class': 'fruit', 'Probability': 0.8240817}\n"
     ]
    },
    {
     "data": {
      "image/png": "[encoded data removed]",
      "text/plain": [
       "<Figure size 288x288 with 1 Axes>"
      ]
     },
     "metadata": {
      "needs_background": "light"
     },
     "output_type": "display_data"
    }
   ],
   "source": [
    "# predicting single image\n",
    "image_path = \"../input/validatedataset/Tomato2.jpg\"\n",
    "new_img = image.load_img(image_path, target_size=(img_width, img_height))\n",
    "img = image.img_to_array(new_img)\n",
    "img = np.expand_dims(img, axis=0)\n",
    "img = img/255\n",
    "\n",
    "#img_class = model.predict_classes(img) #returns ndim np_array\n",
    "img_class = np.argmax(model.predict(img), axis=-1)\n",
    "img_class_index = img_class.item() #extracting value(s)\n",
    "classname = class_names[img_class_index]\n",
    "\n",
    "#img_prob = model.predict_proba(img) #returns numpy array of class probabilities\n",
    "img_prob = model.predict(img)\n",
    "prediction_prob = img_prob.max()\n",
    "\n",
    "pred_dict = {\"Class\":classname, \"Probability\":prediction_prob}\n",
    "print(pred_dict)\n",
    "\n",
    "#ploting image with predicted class name        \n",
    "plt.figure(figsize = (4,4))\n",
    "plt.imshow(new_img)\n",
    "plt.axis('off')\n",
    "plt.title(classname)\n",
    "plt.show()"
   ]
  }
 ],
 "metadata": {
  "kernelspec": {
   "display_name": "Python 3",
   "language": "python",
   "name": "python3"
  },
  "language_info": {
   "codemirror_mode": {
    "name": "ipython",
    "version": 3
   },
   "file_extension": ".py",
   "mimetype": "text/x-python",
   "name": "python",
   "nbconvert_exporter": "python",
   "pygments_lexer": "ipython3",
   "version": "3.7.10"
  },
  "papermill": {
   "default_parameters": {},
   "duration": 44.916955,
   "end_time": "2022-07-14T02:53:17.210339",
   "environment_variables": {},
   "exception": null,
   "input_path": "__notebook__.ipynb",
   "output_path": "__notebook__.ipynb",
   "parameters": {},
   "start_time": "2022-07-14T02:52:32.293384",
   "version": "2.3.3"
  }
 },
 "nbformat": 4,
 "nbformat_minor": 5
}
